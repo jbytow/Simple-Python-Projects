{
 "cells": [
  {
   "cell_type": "code",
   "execution_count": 1,
   "id": "9c4a3442",
   "metadata": {},
   "outputs": [],
   "source": [
    "import random"
   ]
  },
  {
   "cell_type": "code",
   "execution_count": 2,
   "id": "3db22f9a",
   "metadata": {},
   "outputs": [
    {
     "name": "stdout",
     "output_type": "stream",
     "text": [
      "Type a number for an upper bound: 11\n",
      "Let's play!\n",
      "Please type a number between 1 and 11: 11\n",
      "You got it in 1 tries!\n"
     ]
    }
   ],
   "source": [
    "flag = True\n",
    "while flag:\n",
    "    num = input('Type a number for an upper bound: ')\n",
    "    \n",
    "    if num.isdigit():\n",
    "        print(\"Let's play!\")\n",
    "        num = int(num)\n",
    "        flag = False\n",
    "    else:\n",
    "        print(\"Invalid input! Try Again!\")\n",
    "    \n",
    "secret = random.randint(1, num)\n",
    "\n",
    "guess = None\n",
    "count = 1\n",
    "\n",
    "while guess != secret:\n",
    "    guess = input('Please type a number between 1 and ' + str(num) + ': ')\n",
    "    if guess.isdigit(): \n",
    "        guess = int(guess)\n",
    "        if guess == secret:\n",
    "            print('You got it in ' + str(count) + ' tries!')\n",
    "        elif guess > num:\n",
    "            print('Number is outside upper bound! Try Again!')\n",
    "        else:\n",
    "            count +=  1\n",
    "            print('Please try again! Current amount of tries: ' + str(count))\n",
    "    else:\n",
    "        print(\"Invalid input! Try Again!\")"
   ]
  },
  {
   "cell_type": "code",
   "execution_count": null,
   "id": "e5f0d265",
   "metadata": {},
   "outputs": [],
   "source": []
  },
  {
   "cell_type": "code",
   "execution_count": null,
   "id": "e8f51967",
   "metadata": {},
   "outputs": [],
   "source": []
  }
 ],
 "metadata": {
  "kernelspec": {
   "display_name": "Python 3 (ipykernel)",
   "language": "python",
   "name": "python3"
  },
  "language_info": {
   "codemirror_mode": {
    "name": "ipython",
    "version": 3
   },
   "file_extension": ".py",
   "mimetype": "text/x-python",
   "name": "python",
   "nbconvert_exporter": "python",
   "pygments_lexer": "ipython3",
   "version": "3.9.12"
  }
 },
 "nbformat": 4,
 "nbformat_minor": 5
}

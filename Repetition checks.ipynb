{
 "cells": [
  {
   "cell_type": "code",
   "execution_count": null,
   "id": "71635d09",
   "metadata": {
    "scrolled": true
   },
   "outputs": [],
   "source": [
    "#Check if there are repeated words in a text method #1\n",
    "\n",
    "t = input(\"please enter text to check:\")\n",
    "t = t.split()\n",
    "t_set = set(t)\n",
    "t_list = list(t)\n",
    "\n",
    "if len(t_set) == len(t_list):\n",
    "    print(\"Text doesn't contain repeated words\")\n",
    "else:\n",
    "    print(\"Text contains repeated words\")"
   ]
  },
  {
   "cell_type": "code",
   "execution_count": null,
   "id": "b0e8099f",
   "metadata": {},
   "outputs": [],
   "source": [
    "#Check if there are repeated words in a text method #2\n",
    "\n",
    "t = input(\"please enter text to check:\")\n",
    "t = t.split()\n",
    "\n",
    "def CheckIfRepeated(t):\n",
    "    setOfWords = set()\n",
    "    for word in t:\n",
    "        if word in setOfWords:\n",
    "            return True\n",
    "        else:\n",
    "            setOfWords.add(word)\n",
    "    return False\n",
    "\n",
    "test = CheckIfRepeated(t)\n",
    "\n",
    "if test:\n",
    "    print(\"Text contains repeated words\")\n",
    "else:\n",
    "    print(\"Text doesn't contain repeated words\")"
   ]
  },
  {
   "cell_type": "code",
   "execution_count": 11,
   "id": "4175ca4b",
   "metadata": {},
   "outputs": [
    {
     "name": "stdout",
     "output_type": "stream",
     "text": [
      "please enter text to check:RAZ RAZ DWA TRZY\n",
      "Text contains repeated words\n",
      "{'RAZ': 2, 'DWA': 1, 'TRZY': 1}\n"
     ]
    }
   ],
   "source": [
    "#check if there are repeated words in a text and how many times they were repeated\n",
    "\n",
    "t = input(\"please enter text to check:\")\n",
    "t = t.split()\n",
    "\n",
    "counter = {}\n",
    "for word in t:\n",
    "    if word not in counter: \n",
    "        counter[word] = 0\n",
    "    counter[word] = counter[word] + 1\n",
    "\n",
    "test = any(x > 1 for x in counter.values())\n",
    "\n",
    "if test:\n",
    "    print(\"Text contains repeated words\")\n",
    "else:\n",
    "    print(\"Text doesn't contain repeated words\")\n",
    "\n",
    "print(counter)"
   ]
  },
  {
   "cell_type": "code",
   "execution_count": null,
   "id": "cae01456",
   "metadata": {},
   "outputs": [],
   "source": [
    "#number of repeated letters\n",
    "\n",
    "t = input(\"please enter text to check:\")\n",
    "counter = {}\n",
    "\n",
    "for word in t:\n",
    "    if word not in counter: \n",
    "        counter[word] = 0\n",
    "    counter[word] = counter[word] + 1\n",
    "\n",
    "print(counter)"
   ]
  },
  {
   "cell_type": "code",
   "execution_count": null,
   "id": "03ddd754",
   "metadata": {},
   "outputs": [],
   "source": [
    "\n"
   ]
  }
 ],
 "metadata": {
  "kernelspec": {
   "display_name": "Python 3 (ipykernel)",
   "language": "python",
   "name": "python3"
  },
  "language_info": {
   "codemirror_mode": {
    "name": "ipython",
    "version": 3
   },
   "file_extension": ".py",
   "mimetype": "text/x-python",
   "name": "python",
   "nbconvert_exporter": "python",
   "pygments_lexer": "ipython3",
   "version": "3.9.12"
  }
 },
 "nbformat": 4,
 "nbformat_minor": 5
}

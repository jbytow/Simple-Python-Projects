{
 "cells": [
  {
   "cell_type": "code",
   "execution_count": 1,
   "id": "1d30c9bc",
   "metadata": {},
   "outputs": [],
   "source": [
    "import requests"
   ]
  },
  {
   "cell_type": "code",
   "execution_count": 3,
   "id": "199a26e0",
   "metadata": {},
   "outputs": [
    {
     "name": "stdout",
     "output_type": "stream",
     "text": [
      "Enter in the currency you'd like to convert from: GBP\n",
      "Enter in the currency you'd like to convert to:USD\n"
     ]
    }
   ],
   "source": [
    "from_currency = str(\n",
    "    input(\"Enter in the currency you'd like to convert from: \")).upper()\n",
    "\n",
    "to_currency = str(\n",
    "    input(\"Enter in the currency you'd like to convert to: \")).upper()"
   ]
  },
  {
   "cell_type": "code",
   "execution_count": null,
   "id": "a72d5f54",
   "metadata": {},
   "outputs": [],
   "source": []
  }
 ],
 "metadata": {
  "kernelspec": {
   "display_name": "Python 3 (ipykernel)",
   "language": "python",
   "name": "python3"
  },
  "language_info": {
   "codemirror_mode": {
    "name": "ipython",
    "version": 3
   },
   "file_extension": ".py",
   "mimetype": "text/x-python",
   "name": "python",
   "nbconvert_exporter": "python",
   "pygments_lexer": "ipython3",
   "version": "3.9.12"
  }
 },
 "nbformat": 4,
 "nbformat_minor": 5
}
